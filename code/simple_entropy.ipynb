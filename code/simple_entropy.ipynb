{
 "cells": [
  {
   "cell_type": "code",
   "execution_count": 1,
   "id": "aaff61a3",
   "metadata": {
    "lines_to_next_cell": 2
   },
   "outputs": [
    {
     "data": {
      "text/plain": [
       "'Simple entropy examples plots.'"
      ]
     },
     "execution_count": 1,
     "metadata": {},
     "output_type": "execute_result"
    }
   ],
   "source": [
    "\"\"\"Simple entropy examples plots.\"\"\""
   ]
  },
  {
   "cell_type": "code",
   "execution_count": 2,
   "id": "326bfca8",
   "metadata": {},
   "outputs": [],
   "source": [
    "import matplotlib.pyplot as plt\n",
    "import numpy as np"
   ]
  },
  {
   "cell_type": "code",
   "execution_count": 3,
   "id": "d4217cd2",
   "metadata": {},
   "outputs": [],
   "source": [
    "def xlogx(x, base=None):\n",
    "    \"\"\"Make sure ``0*log(0)=0``.\"\"\"\n",
    "    if x == 0:\n",
    "        return 0\n",
    "    if base == 2:\n",
    "        return x * np.log2(x)\n",
    "    if base is None:\n",
    "        return x * np.log(x)"
   ]
  },
  {
   "cell_type": "code",
   "execution_count": 4,
   "id": "a1b9e9c0",
   "metadata": {},
   "outputs": [
    {
     "name": "stderr",
     "output_type": "stream",
     "text": [
      "/tmp/ipykernel_1660/851883733.py:24: RuntimeWarning: divide by zero encountered in log\n",
      "  y2 = 1 - np.log(x2)\n"
     ]
    }
   ],
   "source": [
    "if __name__ == \"__main__\":\n",
    "    fig, (ax1, ax2, ax3) = plt.subplots(figsize=(21, 6), ncols=3)\n",
    "\n",
    "    # Bernoulli plot\n",
    "    x1 = np.linspace(0, 1, 101)\n",
    "    y1 = [-xlogx(x, 2) - xlogx(1 - x, 2) for x in x1]\n",
    "    ax1.plot(x1, y1, c=\"black\", ls=\"-\", lw=4)\n",
    "\n",
    "    ax1.set_xlim([0, 1])\n",
    "    ax1.set_ylim([0, 1])\n",
    "    ax1.set_xlabel(r\"$p$\")\n",
    "    ax1.set_ylabel(r\"$\\mathrm{\\mathbb{H}}$ (bits)\")\n",
    "    ax1.axvline(0.5, c=\"black\", lw=4, alpha=0.2)\n",
    "    ax1.text(-0.05, 1.05, \"(a)\", transform=ax1.transAxes, size=20, weight=\"bold\")\n",
    "\n",
    "    for item in [ax1.title, ax1.xaxis.label, ax1.yaxis.label]:\n",
    "        item.set_fontsize(20)\n",
    "\n",
    "    for item in ax1.get_xticklabels() + ax1.get_yticklabels():\n",
    "        item.set_fontsize(18)\n",
    "\n",
    "    # exponential plot\n",
    "    x2 = np.linspace(0, 5, 501)\n",
    "    y2 = 1 - np.log(x2)\n",
    "    ax2.plot(x2, y2, c=\"black\", ls=\"-\", lw=4)\n",
    "    ax2.axhline(0, c=\"black\")\n",
    "\n",
    "    ax2.set_xlim([0, 5])\n",
    "    ax2.set_ylim([y2[-1], y2[1]])\n",
    "    ax2.set_xlabel(r\"$\\lambda$ (1/yr)\")\n",
    "    ax2.set_ylabel(r\"$\\mathrm{\\mathbb{H}}$ (nats)\")\n",
    "    ax2.text(-0.05, 1.05, \"(b)\", transform=ax2.transAxes, size=20, weight=\"bold\")\n",
    "\n",
    "    for item in [ax2.title, ax2.xaxis.label, ax2.yaxis.label]:\n",
    "        item.set_fontsize(20)\n",
    "\n",
    "    for item in ax2.get_xticklabels() + ax2.get_yticklabels():\n",
    "        item.set_fontsize(18)\n",
    "\n",
    "    # Poisson plot\n",
    "    x3 = np.linspace(0, 5, 501)\n",
    "    y3 = [x - xlogx(x) for x in x3]\n",
    "    ax3.plot(x3, y3, c=\"black\", ls=\"-\", lw=4)\n",
    "    ax3.axhline(0, c=\"black\")\n",
    "\n",
    "    ax3.set_xlim([0, 5])\n",
    "    #    ax3.set_ylim([y3[-1], y3[1]])\n",
    "    ax3.set_xlabel(r\"$\\lambda$ (1/yr)\")\n",
    "    ax3.set_ylabel(r\"$\\theta$ (nats/yr)\")\n",
    "    ax3.axvline(1, c=\"black\", lw=4, alpha=0.2)\n",
    "    ax3.text(-0.05, 1.05, \"(c)\", transform=ax3.transAxes, size=20, weight=\"bold\")\n",
    "\n",
    "    for item in [ax3.title, ax3.xaxis.label, ax3.yaxis.label]:\n",
    "        item.set_fontsize(20)\n",
    "\n",
    "    for item in ax3.get_xticklabels() + ax3.get_yticklabels():\n",
    "        item.set_fontsize(18)\n",
    "\n",
    "    fig.tight_layout()\n",
    "    fig.savefig(\"simple_entropy_py.png\")\n",
    "    fig.savefig(\"simple_entropy_py.pdf\")\n",
    "    plt.close(fig)"
   ]
  },
  {
   "cell_type": "code",
   "execution_count": null,
   "id": "7e6c7f7d-bbfd-42eb-9272-b44f9dd8abd6",
   "metadata": {},
   "outputs": [],
   "source": []
  }
 ],
 "metadata": {
  "jupytext": {
   "cell_metadata_filter": "-all",
   "formats": "ipynb,py:light"
  },
  "kernelspec": {
   "display_name": "Python 3 (ipykernel)",
   "language": "python",
   "name": "python3"
  },
  "language_info": {
   "codemirror_mode": {
    "name": "ipython",
    "version": 3
   },
   "file_extension": ".py",
   "mimetype": "text/x-python",
   "name": "python",
   "nbconvert_exporter": "python",
   "pygments_lexer": "ipython3",
   "version": "3.9.16"
  }
 },
 "nbformat": 4,
 "nbformat_minor": 5
}
