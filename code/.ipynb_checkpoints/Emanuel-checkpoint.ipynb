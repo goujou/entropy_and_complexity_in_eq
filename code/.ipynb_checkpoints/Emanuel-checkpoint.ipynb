{
 "cells": [
  {
   "cell_type": "code",
   "execution_count": 1,
   "id": "18c2650b-5a89-4a18-9e92-9168247337ad",
   "metadata": {},
   "outputs": [],
   "source": [
    "from sympy import solve, Matrix, symbols\n",
    "import numpy as np\n",
    "import matplotlib.pyplot as plt\n",
    "\n",
    "from bgc_md2.models.Emanuel1981.source import mvs\n",
    "from LAPM.linear_autonomous_pool_model import LinearAutonomousPoolModel as LAPM"
   ]
  },
  {
   "cell_type": "code",
   "execution_count": 2,
   "id": "7df05a2a-09e2-4130-bbf3-4b58bfe89b80",
   "metadata": {},
   "outputs": [
    {
     "name": "stdout",
     "output_type": "stream",
     "text": [
      "{NumericCompartmentalMatrixFunc,OutFluxesBySymbol,InternalFluxesBySymbol,InFluxesBySymbol,SmoothReservoirModel,NumericStartValueArray}\n",
      "{VegetationCarbonInternalFluxesBySymbol,NumericCompartmentalMatrixFunc,VegetationCarbonOutFluxesBySymbol,OutFluxesBySymbol,NumericStartValueDict,VegetationCarbonInFluxesBySymbol,VegetationCarbonCompartmentalMatrix,InternalFluxesBySymbol,InFluxesBySymbol,CompartmentalMatrix,NumericParameterizedSmoothReservoirModel,SmoothReservoirModel,InputTuple,NumericStartValueArray}\n",
      "{VegetationCarbonInternalFluxesBySymbol,NumericCompartmentalMatrixFunc,VegetationCarbonOutFluxesBySymbol,OutFluxesBySymbol,VegetationCarbonInputTuple,VegetationCarbonInFluxesBySymbol,VegetationCarbonCompartmentalMatrix,NumericStartValueDict,InFluxesBySymbol,InternalFluxesBySymbol,CompartmentalMatrix,NumericParameterizedSmoothReservoirModel,SmoothReservoirModel,InputTuple,SmoothModelRun,NumericStartValueArray}\n",
      "{NumericCompartmentalMatrixFunc,NumericSolutionArray,VegetationCarbonOutFluxesBySymbol,NumericStartValueDict,VegetationCarbonCompartmentalMatrix,InFluxesBySymbol,NumericParameterizedSmoothReservoirModel,VegetationCarbonInputScalar,NumericStartValueArray,VegetationCarbonInternalFluxesBySymbol,VegetationCarbonInputPartitioningTuple,OutFluxesBySymbol,InternalFluxesBySymbol,VegetationCarbonInFluxesBySymbol,VegetationCarbonInputTuple,SmoothReservoirModel,SmoothModelRun,CompartmentalMatrix,InputTuple}\n",
      "{NumericCompartmentalMatrixFunc,NumericSolutionArray,VegetationCarbonOutFluxesBySymbol,NumericStartValueDict,VegetationCarbonCompartmentalMatrix,InFluxesBySymbol,NumericParameterizedSmoothReservoirModel,VegetationCarbonInputScalar,NumericStartValueArray,NumericCompartmentalMatrixSolutionTuple,VegetationCarbonInternalFluxesBySymbol,VegetationCarbonInputPartitioningTuple,OutFluxesBySymbol,InternalFluxesBySymbol,VegetationCarbonInFluxesBySymbol,VegetationCarbonInputTuple,SmoothReservoirModel,SmoothModelRun,CompartmentalMatrix,InputTuple}\n",
      "{NumericCompartmentalMatrixFunc,NumericSolutionArray,VegetationCarbonOutFluxesBySymbol,NumericStartValueDict,VegetationCarbonCompartmentalMatrix,InFluxesBySymbol,NumericParameterizedSmoothReservoirModel,VegetationCarbonInputScalar,NumericStartValueArray,NumericCompartmentalMatrixSolutionTuple,VegetationCarbonInternalFluxesBySymbol,VegetationCarbonInputPartitioningTuple,OutFluxesBySymbol,InternalFluxesBySymbol,VegetationCarbonInFluxesBySymbol,VegetationCarbonInputTuple,SmoothReservoirModel,SmoothModelRun,CompartmentalMatrix,InputTuple}\n"
     ]
    }
   ],
   "source": [
    "smr = mvs.get_SmoothReservoirModel()"
   ]
  },
  {
   "cell_type": "code",
   "execution_count": 3,
   "id": "a990d78c-44d6-483d-bd8f-28ec1c72dafb",
   "metadata": {},
   "outputs": [
    {
     "data": {
      "text/latex": [
       "$\\displaystyle \\left[\\begin{matrix}- F_{1} & 0 & 0 & 0 & 0\\\\F_{21} & - F_{2} & 0 & 0 & 0\\\\0 & 0 & - F_{3} & 0 & 0\\\\F_{41} & F_{42} & F_{43} & - F_{4} & 0\\\\0 & F_{52} & F_{53} & F_{54} & - F_{5}\\end{matrix}\\right]$"
      ],
      "text/plain": [
       "Matrix([\n",
       "[-F_1,    0,    0,    0,    0],\n",
       "[F_21, -F_2,    0,    0,    0],\n",
       "[   0,    0, -F_3,    0,    0],\n",
       "[F_41, F_42, F_43, -F_4,    0],\n",
       "[   0, F_52, F_53, F_54, -F_5]])"
      ]
     },
     "execution_count": 3,
     "metadata": {},
     "output_type": "execute_result"
    }
   ],
   "source": [
    "B = smr.compartmental_matrix\n",
    "B"
   ]
  },
  {
   "cell_type": "code",
   "execution_count": 4,
   "id": "b8c8dcf1-bf15-4e5d-a342-0925d10d4d42",
   "metadata": {},
   "outputs": [
    {
     "data": {
      "text/latex": [
       "$\\displaystyle \\left[\\begin{matrix}I_{1}\\\\0\\\\I_{3}\\\\0\\\\0\\end{matrix}\\right]$"
      ],
      "text/plain": [
       "Matrix([\n",
       "[I_1],\n",
       "[  0],\n",
       "[I_3],\n",
       "[  0],\n",
       "[  0]])"
      ]
     },
     "execution_count": 4,
     "metadata": {},
     "output_type": "execute_result"
    }
   ],
   "source": [
    "u = smr.external_inputs\n",
    "u"
   ]
  },
  {
   "cell_type": "code",
   "execution_count": 5,
   "id": "88177ba1-4a66-4c1e-ab54-0ded23df4e59",
   "metadata": {},
   "outputs": [],
   "source": [
    "pool_names = [\"nonwoody tree parts\", \"woody tree parts\", \"ground vegetation\", \"detritus/composers\", \"active soil carbon\"]"
   ]
  },
  {
   "cell_type": "code",
   "execution_count": 6,
   "id": "19422b59-f03f-4f32-ba9e-03fe123d01ee",
   "metadata": {},
   "outputs": [],
   "source": [
    "par_dict = {\n",
    "    \"I_1\": 77,\n",
    "    \"I_3\": 36,\n",
    "    \"F_1\": 77/36.,\n",
    "    \"F_21\": 31/37., \"F_2\": 31/452.,\n",
    "    \"F_3\": 36/69.,\n",
    "    \"F_41\": 21/37., \"F_42\": 15/452., \"F_43\": 12/69., \"F_4\": 48/81.,\n",
    "    \"F_52\": 2/452., \"F_53\": 6/69., \"F_54\": 3/81., \"F_5\": 11/1121.\n",
    "}"
   ]
  },
  {
   "cell_type": "code",
   "execution_count": 7,
   "id": "a0dcf011-a156-4b18-899d-125724ff42e5",
   "metadata": {},
   "outputs": [
    {
     "data": {
      "text/latex": [
       "$\\displaystyle \\left[\\begin{matrix}-2.13888888888889 & 0 & 0 & 0 & 0\\\\0.837837837837838 & -0.0685840707964602 & 0 & 0 & 0\\\\0 & 0 & -0.521739130434783 & 0 & 0\\\\0.567567567567568 & 0.0331858407079646 & 0.173913043478261 & -0.592592592592593 & 0\\\\0 & 0.00442477876106195 & 0.0869565217391304 & 0.037037037037037 & -0.00981266726137377\\end{matrix}\\right]$"
      ],
      "text/plain": [
       "Matrix([\n",
       "[-2.13888888888889,                   0,                  0,                  0,                    0],\n",
       "[0.837837837837838, -0.0685840707964602,                  0,                  0,                    0],\n",
       "[                0,                   0, -0.521739130434783,                  0,                    0],\n",
       "[0.567567567567568,  0.0331858407079646,  0.173913043478261, -0.592592592592593,                    0],\n",
       "[                0, 0.00442477876106195, 0.0869565217391304,  0.037037037037037, -0.00981266726137377]])"
      ]
     },
     "execution_count": 7,
     "metadata": {},
     "output_type": "execute_result"
    }
   ],
   "source": [
    "B.subs(par_dict)"
   ]
  },
  {
   "cell_type": "code",
   "execution_count": 8,
   "id": "a710a0db-d724-4cbe-84d9-cfcd4eaec9ed",
   "metadata": {},
   "outputs": [
    {
     "data": {
      "text/latex": [
       "$\\displaystyle \\left[\\begin{matrix}77\\\\0\\\\36\\\\0\\\\0\\end{matrix}\\right]$"
      ],
      "text/plain": [
       "Matrix([\n",
       "[77],\n",
       "[ 0],\n",
       "[36],\n",
       "[ 0],\n",
       "[ 0]])"
      ]
     },
     "execution_count": 8,
     "metadata": {},
     "output_type": "execute_result"
    }
   ],
   "source": [
    "u.subs(par_dict)"
   ]
  },
  {
   "cell_type": "code",
   "execution_count": 9,
   "id": "2b525e5e-38c2-4116-996c-bbb81ae5150b",
   "metadata": {},
   "outputs": [],
   "source": [
    "xi = symbols(\"xi\")"
   ]
  },
  {
   "cell_type": "code",
   "execution_count": 10,
   "id": "aeed5538-1376-4850-91c7-26c76c88f344",
   "metadata": {},
   "outputs": [],
   "source": [
    "xis = np.arange(0.5, 2.02, 0.02)"
   ]
  },
  {
   "cell_type": "code",
   "execution_count": 11,
   "id": "f209dc93-8eae-44bf-95e5-6b0c1cce8321",
   "metadata": {},
   "outputs": [],
   "source": [
    "def create_modified_Emanuel_model(xi):\n",
    "    par_dict_extended = par_dict.copy()\n",
    "    par_dict_extended[\"xi\"] = xi\n",
    "    B_modified = xi * B\n",
    "    \n",
    "    return LAPM(u.subs(par_dict_extended), B_modified.subs(par_dict_extended), force_numerical=True)"
   ]
  },
  {
   "cell_type": "code",
   "execution_count": 12,
   "id": "b9c2eafe-cf02-4718-9978-34c69e9e90a0",
   "metadata": {},
   "outputs": [
    {
     "ename": "NameError",
     "evalue": "name 'ET' is not defined",
     "output_type": "error",
     "traceback": [
      "\u001b[0;31m---------------------------------------------------------------------------\u001b[0m",
      "\u001b[0;31mNameError\u001b[0m                                 Traceback (most recent call last)",
      "\u001b[0;32m<timed exec>\u001b[0m in \u001b[0;36m<module>\u001b[0;34m\u001b[0m\n",
      "\u001b[0;31mNameError\u001b[0m: name 'ET' is not defined"
     ]
    }
   ],
   "source": [
    "%%time\n",
    "\n",
    "thetas, ETs, path_entropies, ENs, theta_Ns, xsss, Ps_21, exp_Hs = [], [], [], [], [], [], [], []\n",
    "for xi in xis:\n",
    "    model = create_modified_Emanuel_model(xi)\n",
    "    \n",
    "    xsss.append(model.xss)\n",
    "    thetas.append(model.entropy_rate)\n",
    "    ET = model.T_expected_value\n",
    "    ETs.append(ET)\n",
    "    path_entropies.append(model.entropy_per_cycle)\n",
    "    ENs.append(model.absorbing_jump_chain.expected_number_of_jumps)\n",
    "    theta_Ns.append(model.entropy_per_jump)\n",
    "    Ps_21.append(model.absorbing_jump_chain.P)\n",
    "    \n",
    "    # one-pool entropy\n",
    "    lamda = 1/ET\n",
    "    exp_Hs.append(1 - np.log(lamda))"
   ]
  },
  {
   "cell_type": "code",
   "execution_count": null,
   "id": "4ef42bcc-4e29-463b-a545-9dd19fc7d5df",
   "metadata": {},
   "outputs": [],
   "source": [
    "fix, axes = plt.subplots(figsize=(8*3, 6*3), nrows=2, ncols=3)\n",
    "axes = axes.flatten()\n",
    "[ax.set_xlabel(r\"environmental rate modifier ($\\xi$)\") for ax in axes]\n",
    "\n",
    "axes = iter(axes)\n",
    "\n",
    "ax = next(axes)\n",
    "ax.set_title(\"Steady-state carbon stocks\")\n",
    "lines = ax.plot(xis, xsss)\n",
    "ax.legend(lines, pool_names)\n",
    "\n",
    "ax = next(axes)\n",
    "ax.set_title(\"Mean transit time\")\n",
    "ax.plot(xis, ETs)\n",
    "\n",
    "ax = next(axes)\n",
    "ax.set_title(\"Mean number of jumps\")\n",
    "ax.plot(xis, ENs)\n",
    "\n",
    "ax = next(axes)\n",
    "ax.set_title(\"Path entropy\")\n",
    "ax.plot(xis, path_entropies, label=\"path entropy\")\n",
    "ax.plot(xis, exp_Hs, label=\"one-pool entropy\")\n",
    "ax.legend()\n",
    "\n",
    "ax = next(axes)\n",
    "ax.set_title(\"Entropy rate per unit time\")\n",
    "ax.plot(xis, thetas)\n",
    "\n",
    "ax = next(axes)\n",
    "ax.set_title(\"Entropy rate per jump\")\n",
    "ax.plot(xis, theta_Ns)"
   ]
  },
  {
   "cell_type": "code",
   "execution_count": null,
   "id": "35dd4c78-268a-4ecf-890d-8e600a13342e",
   "metadata": {},
   "outputs": [],
   "source": []
  }
 ],
 "metadata": {
  "kernelspec": {
   "display_name": "Python 3",
   "language": "python",
   "name": "python3"
  },
  "language_info": {
   "codemirror_mode": {
    "name": "ipython",
    "version": 3
   },
   "file_extension": ".py",
   "mimetype": "text/x-python",
   "name": "python",
   "nbconvert_exporter": "python",
   "pygments_lexer": "ipython3",
   "version": "3.8.8"
  }
 },
 "nbformat": 4,
 "nbformat_minor": 5
}
